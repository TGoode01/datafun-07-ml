{
 "cells": [
  {
   "cell_type": "markdown",
   "metadata": {},
   "source": [
    "### Project 7: Machine Learning\n",
    "\n",
    "Author: [Tamia Goode](https://github.com/TGoode01)\n",
    "\n",
    "Repository: [datafun-07-ml](https://github.com/TGoode01/datafun-07-ml)"
   ]
  },
  {
   "cell_type": "markdown",
   "metadata": {},
   "source": [
    "\n",
    "### Import Statements\n",
    "\n",
    "    import numpy as np\n",
    "    import pandas as pd\n",
    "    import pyarrow as pa\n",
    "    import matplotlib.pyplot as plt\n",
    "    import seaborn as sns\n",
    "    import scipy\n",
    "    import linregress\n",
    "    from sklearn.model_selection import train_test_split\n",
    "    from sklearn.linear_model \n",
    "    import LinearRegression\n",
    "\n"
   ]
  },
  {
   "cell_type": "markdown",
   "metadata": {},
   "source": [
    "## Part 1: Chart a Straight Line "
   ]
  },
  {
   "cell_type": "code",
   "execution_count": 6,
   "metadata": {},
   "outputs": [],
   "source": [
    "c = lambda f: 5/9 * (f-32)\n",
    "temps = [(f, c(f)) for f in range (0,101,10)]\n"
   ]
  }
 ],
 "metadata": {
  "kernelspec": {
   "display_name": "venv",
   "language": "python",
   "name": "python3"
  },
  "language_info": {
   "codemirror_mode": {
    "name": "ipython",
    "version": 3
   },
   "file_extension": ".py",
   "mimetype": "text/x-python",
   "name": "python",
   "nbconvert_exporter": "python",
   "pygments_lexer": "ipython3",
   "version": "3.12.8"
  }
 },
 "nbformat": 4,
 "nbformat_minor": 2
}
