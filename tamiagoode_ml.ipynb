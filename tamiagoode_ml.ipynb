{
 "cells": [
  {
   "cell_type": "markdown",
   "metadata": {},
   "source": [
    "{\n",
    " \"cells\": [\n",
    "  {\n",
    "   \"attachments\": {},\n",
    "   \"cell_type\": \"markdown\",\n",
    "   \"metadata\": {},\n",
    "   \"source\": [\n",
    "    \"# Tamia Goode Notebook - Project 7: Introduction to Machine Learning\\n\",\n",
    "    \"\\n\",\n",
    "    \"- Author: [Tamia Goode](https://github.com/TGoode01)\\n\",\n",
    "    \"- Repository: [datafun-07-ml](https://github.com/TGoode01/datafun-07-ml)\"\n",
    "   ]\n",
    "  }"
   ]
  }
 ],
 "metadata": {
  "language_info": {
   "name": "python"
  }
 },
 "nbformat": 4,
 "nbformat_minor": 2
}
