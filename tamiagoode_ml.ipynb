{
 "cells": [
  {
   "cell_type": "markdown",
   "metadata": {},
   "source": [
    "### Project 7: Machine Learning\n",
    "\n",
    "Author: [Tamia Goode](https://github.com/TGoode01)\n",
    "\n",
    "Repository: [datafun-07-ml](https://github.com/TGoode01/datafun-07-ml)"
   ]
  },
  {
   "cell_type": "code",
   "execution_count": null,
   "metadata": {
    "vscode": {
     "languageId": "plaintext"
    }
   },
   "outputs": [],
   "source": []
  }
 ],
 "metadata": {
  "language_info": {
   "name": "python"
  }
 },
 "nbformat": 4,
 "nbformat_minor": 2
}
